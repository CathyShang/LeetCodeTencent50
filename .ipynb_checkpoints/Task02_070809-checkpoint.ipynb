{
 "cells": [
  {
   "cell_type": "markdown",
   "metadata": {},
   "source": [
    "# 题目一 7. 整数反转"
   ]
  },
  {
   "cell_type": "raw",
   "metadata": {},
   "source": [
    "给出一个 32 位的有符号整数，你需要将这个整数中每位上的数字进行反转。\n",
    "\n",
    "注意：\n",
    "\n",
    "假设我们的环境只能存储得下 32 位的有符号整数，则其数值范围为 [−231,  231 − 1]。请根据这个假设，如果反转后整数溢出那么就返回 0。\n",
    " \n",
    "\n",
    "示例 1：\n",
    "输入：x = 123\n",
    "输出：321\n",
    "示例 2：\n",
    "输入：x = -123\n",
    "输出：-321\n",
    "示例 3：\n",
    "输入：x = 120\n",
    "输出：21\n",
    "示例 4：\n",
    "输入：x = 0\n",
    "输出：0\n",
    "\n",
    "来源：力扣（LeetCode）\n",
    "链接：https://leetcode-cn.com/problems/reverse-integer"
   ]
  },
  {
   "cell_type": "markdown",
   "metadata": {},
   "source": [
    "## 实现"
   ]
  },
  {
   "cell_type": "markdown",
   "metadata": {},
   "source": [
    "### 思路 "
   ]
  },
  {
   "cell_type": "raw",
   "metadata": {},
   "source": [
    "1- 设定flag区别正整数，零，负整数\n",
    "2- 使用字符串颠倒  或者 写具体函数"
   ]
  },
  {
   "cell_type": "markdown",
   "metadata": {},
   "source": [
    "### 代码"
   ]
  },
  {
   "cell_type": "code",
   "execution_count": 5,
   "metadata": {},
   "outputs": [
    {
     "name": "stdout",
     "output_type": "stream",
     "text": [
      "0\n",
      "-123\n",
      "21\n"
     ]
    }
   ],
   "source": [
    "class Solution:\n",
    "    def reverse(self, x: int) -> int:\n",
    "        ## 判断正整数or零or负整数\n",
    "        flag = 2\n",
    "        if x==0: \n",
    "            flag = 0\n",
    "        elif x<0:\n",
    "            flag = -1\n",
    "        else:\n",
    "            flag = 1        \n",
    "        ## 负整数转换为正整数\n",
    "        if flag == -1:\n",
    "            x = x*flag\n",
    "        ## 字符串翻转\n",
    "        x_str = str(x)\n",
    "        anws_str = x_str[::-1]\n",
    "        ## 符号恢复\n",
    "        anws = int(anws_str)*flag\n",
    "        \n",
    "        return anws if -2147483648 < anws < 2147483647 else 0   #判断是否溢出\n",
    "\n",
    "a = Solution() # 实例化\n",
    "## 测试\n",
    "test1 = 0\n",
    "test2 =-321\n",
    "test3 = 120\n",
    "\n",
    "print(a.reverse(test1))\n",
    "print(a.reverse(test2))\n",
    "print(a.reverse(test3))"
   ]
  },
  {
   "cell_type": "raw",
   "metadata": {},
   "source": [
    "error  没有考虑溢出情况"
   ]
  },
  {
   "cell_type": "code",
   "execution_count": 6,
   "metadata": {},
   "outputs": [
    {
     "name": "stdout",
     "output_type": "stream",
     "text": [
      "0\n"
     ]
    }
   ],
   "source": [
    "## 溢出测试\n",
    "test4 = 1534236469\n",
    "print(a.reverse(test4))"
   ]
  },
  {
   "cell_type": "raw",
   "metadata": {},
   "source": [
    "溢出[-2^31,2^31-1] 2^31=2147483648  根据次修改程序"
   ]
  },
  {
   "cell_type": "markdown",
   "metadata": {},
   "source": [
    "## 实现结果 "
   ]
  },
  {
   "cell_type": "raw",
   "metadata": {},
   "source": [
    "执行用时：44 ms, 在所有 Python3 提交中击败了51.47%的用户\n",
    "内存消耗：14.7 MB, 在所有 Python3 提交中击败了21.62%的用户"
   ]
  },
  {
   "cell_type": "markdown",
   "metadata": {},
   "source": [
    "# 题目二 8. 字符串转换整数 (atoi)"
   ]
  },
  {
   "cell_type": "raw",
   "metadata": {},
   "source": [
    "请你来实现一个 atoi 函数，使其能将字符串转换成整数。\n",
    "\n",
    "首先，该函数会根据需要丢弃无用的开头空格字符，直到寻找到第一个非空格的字符为止。接下来的转化规则如下：\n",
    "\n",
    "如果第一个非空字符为正或者负号时，则将该符号与之后面尽可能多的连续数字字符组合起来，形成一个有符号整数。\n",
    "假如第一个非空字符是数字，则直接将其与之后连续的数字字符组合起来，形成一个整数。\n",
    "该字符串在有效的整数部分之后也可能会存在多余的字符，那么这些字符可以被忽略，它们对函数不应该造成影响。\n",
    "假如该字符串中的第一个非空格字符不是一个有效整数字符、字符串为空或字符串仅包含空白字符时，则你的函数不需要进行转换，即无法进行有效转换。\n",
    "\n",
    "在任何情况下，若函数不能进行有效的转换时，请返回 0 。"
   ]
  },
  {
   "cell_type": "markdown",
   "metadata": {},
   "source": [
    "## 实现 "
   ]
  },
  {
   "cell_type": "markdown",
   "metadata": {},
   "source": [
    "### 正则表达式 "
   ]
  },
  {
   "cell_type": "raw",
   "metadata": {},
   "source": [
    "正则表达式（英语：Regular Expression，常简写为 regex、regexp 或 RE），又称正则表示式、正则表示法、规则表达式、常规表示法，是计算机科学的一个概念。正则表达式使用单个字符串来描述、匹配一系列符合某个句法规则的字符串。\n",
    "作者：LotusPanda\n",
    "链接：https://leetcode-cn.com/problems/string-to-integer-atoi/solution/xiong-mao-shua-ti-python3-yi-qi-xue-xi-zheng-ze-bi/\n",
    "知识库：\n",
    "https://www.runoob.com/regexp/regexp-tutorial.html\n",
    "https://www.liaoxuefeng.com/wiki/1016959663602400/1017639890281664\n",
    "https://github.com/ziishaned/learn-regex\n",
    "\n",
    "练习：\n",
    "https://regexr.com/\n",
    "https://jex.im/regulex/"
   ]
  },
  {
   "cell_type": "raw",
   "metadata": {},
   "source": [
    "第一组：\n",
    "\" * \" 匹配前面的子表达式零次或多次\n",
    "\" + \" 匹配前面的子表达式一次或多次\n",
    "\" ？ \" 匹配前面的子表达式零次或一次\n",
    "\n",
    "第二组：\n",
    "\" [abc]\" ：方括号表示字符集合，例子表示一个字符串有一个 \"a\" 或 \"b\" 或 \"c\" 等价于 [z|b|c]\n",
    "\" [^abc]\"：^表示一个字符串中不应该出现某些模式，即匹配未包含该集合的任意字符\n",
    "下面几个个也常用\n",
    "\" [a-z]\"： 表示一个字符串中存在一个 a 和 z 之间的所有字母\n",
    "\" [0-9]\"： 表示一个字符串中存在一个 0 和 9 之间的所有数字\n",
    "\" [^a-z]\" ：表示一个字符串中不应该出现 a 到 z 之间的任意一个字母\n",
    "\n",
    "第三组：\n",
    "\" \\d \" 匹配一个数字字符，等价[0-9]\n",
    "\" \\D \" 匹配一个非数字字符，等价[^0-9]\n",
    "\" \\w\" 匹配包括下划线的任何单词字符。等价于“[A-Za-z0-9_]”\n",
    "\" \\W\" 匹配任何非单词字符。等价于“[^A-Za-z0-9_]”\n",
    "\n",
    "第四组：\n",
    "下面是一些常见使用场景的 pattern\n",
    "Email 地址：^\\w+([-+.]\\w+)*@\\w+([-.]\\w+)*\\.\\w+([-.]\\w+)*$\n",
    "\n",
    "手机号码：^(13[0-9]|14[5|7]|15[0|1|2|3|5|6|7|8|9]|18[0|1|2|3|5|6|7|8|9])\\d{8}$\n",
    "\n",
    "ID 号码(数字、字母x结尾)：^([0-9]){7,18}(x|X)?$ 或 ^\\d{8,18}|[0-9x]{8,18}|[0-9X]{8,18}?$\n",
    "\n",
    "密码(以字母开头，长度在 6~18 之间，只能包含字母、数字和下划线)：^[a-zA-Z]\\w{5,17}$\n",
    "\n",
    "强密码(必须包含大小写字母和数字的组合，不能使用特殊字符，长度在8-10之间)：^(?=.*\\d)(?=.*[a-z])(?=.*[A-Z]).{8,10}$  \n",
    "\n",
    "日期格式：^\\d{4}-\\d{1,2}-\\d{1,2}"
   ]
  },
  {
   "cell_type": "code",
   "execution_count": 12,
   "metadata": {},
   "outputs": [
    {
     "name": "stdout",
     "output_type": "stream",
     "text": [
      "42\n",
      "-321\n",
      "0\n",
      "-2147483648\n"
     ]
    }
   ],
   "source": [
    "class Solution:\n",
    "    def myAtoi(self, s: str) -> int:\n",
    "        import re\n",
    "        matches = re.match('[ ]*([+-]?\\d+)', s)  # 最重要的就是这一句了吧，正则重在搞定匹配的pattern\n",
    "        if not matches:\n",
    "            return 0\n",
    "        res=int(matches.group(1))\n",
    "        return min(max(res, -2**31), 2**31-1)\n",
    "    \n",
    "a = Solution() # 实例化\n",
    "## 测试\n",
    "test1 = \"42\"\n",
    "test2 =\"-321\"\n",
    "test3 =\"words and 987\"\n",
    "test4 =\"-91283472332\"\n",
    "\n",
    "print(a.myAtoi(test1))\n",
    "print(a.myAtoi(test2))\n",
    "print(a.myAtoi(test3))\n",
    "print(a.myAtoi(test4))"
   ]
  },
  {
   "cell_type": "markdown",
   "metadata": {},
   "source": [
    "## 实现结果 "
   ]
  },
  {
   "cell_type": "raw",
   "metadata": {},
   "source": [
    "执行用时：36 ms, 在所有 Python3 提交中击败了94.43%的用户\n",
    "内存消耗：14.7 MB, 在所有 Python3 提交中击败了26.28%的用户"
   ]
  },
  {
   "cell_type": "markdown",
   "metadata": {},
   "source": [
    "# 题目三 9. 回文数"
   ]
  },
  {
   "cell_type": "raw",
   "metadata": {},
   "source": [
    "判断一个整数是否是回文数。回文数是指正序（从左向右）和倒序（从右向左）读都是一样的整数。\n",
    "\n",
    "示例 1:\n",
    "\n",
    "输入: 121\n",
    "输出: true\n",
    "示例 2:\n",
    "\n",
    "输入: -121\n",
    "输出: false\n",
    "解释: 从左向右读, 为 -121 。 从右向左读, 为 121- 。因此它不是一个回文数。\n",
    "示例 3:\n",
    "\n",
    "输入: 10\n",
    "输出: false\n",
    "解释: 从右向左读, 为 01 。因此它不是一个回文数。"
   ]
  },
  {
   "cell_type": "markdown",
   "metadata": {},
   "source": [
    "## 实现 "
   ]
  },
  {
   "cell_type": "raw",
   "metadata": {},
   "source": [
    "1-字符串翻转\n",
    "2-判断是否相同"
   ]
  },
  {
   "cell_type": "code",
   "execution_count": 8,
   "metadata": {},
   "outputs": [
    {
     "name": "stdout",
     "output_type": "stream",
     "text": [
      "True\n",
      "False\n",
      "True\n"
     ]
    }
   ],
   "source": [
    "class Solution:\n",
    "    def isPalindrome(self, x: int) -> bool:\n",
    "        x_str = str(x)\n",
    "        x_str_rev = x_str[::-1]\n",
    "        \n",
    "        return True if x_str == x_str_rev else False\n",
    "    \n",
    "a = Solution() # 实例化    \n",
    "## 测试\n",
    "test1 = 0\n",
    "test2 =-321\n",
    "test3 = 121\n",
    "\n",
    "print(a.isPalindrome(test1))\n",
    "print(a.isPalindrome(test2))\n",
    "print(a.isPalindrome(test3))"
   ]
  },
  {
   "cell_type": "markdown",
   "metadata": {},
   "source": [
    "## 实现结果"
   ]
  },
  {
   "cell_type": "raw",
   "metadata": {},
   "source": [
    "执行用时：60 ms, 在所有 Python3 提交中击败了96.76%的用户\n",
    "内存消耗：14.6 MB, 在所有 Python3 提交中击败了26.67%的用户\n",
    "时间复杂度：O(log/n)\n",
    "空间复杂度：O(1)"
   ]
  },
  {
   "cell_type": "code",
   "execution_count": null,
   "metadata": {},
   "outputs": [],
   "source": []
  }
 ],
 "metadata": {
  "kernelspec": {
   "display_name": "Python 3",
   "language": "python",
   "name": "python3"
  },
  "language_info": {
   "codemirror_mode": {
    "name": "ipython",
    "version": 3
   },
   "file_extension": ".py",
   "mimetype": "text/x-python",
   "name": "python",
   "nbconvert_exporter": "python",
   "pygments_lexer": "ipython3",
   "version": "3.7.3"
  }
 },
 "nbformat": 4,
 "nbformat_minor": 2
}
